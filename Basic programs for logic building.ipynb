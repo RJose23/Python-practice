{
 "cells": [
  {
   "cell_type": "markdown",
   "metadata": {},
   "source": [
    "### 1. Check if given input is prime number\n"
   ]
  },
  {
   "cell_type": "code",
   "execution_count": 2,
   "metadata": {},
   "outputs": [
    {
     "name": "stdout",
     "output_type": "stream",
     "text": [
      "enter a number to check if prime 17\n",
      "prime\n"
     ]
    }
   ],
   "source": [
    "x=int(input(\"enter a number to check if prime \"))\n",
    "\n",
    "\n",
    "for i in range(2,x):\n",
    "        if(x%i==0): \n",
    "            print(\"not prime\")\n",
    "            break\n",
    "        elif(x%x==0 and x%1 ==0):\n",
    "            print(\"prime\")\n",
    "            break\n"
   ]
  },
  {
   "cell_type": "markdown",
   "metadata": {},
   "source": [
    "### 2. Reverse digits in a given number"
   ]
  },
  {
   "cell_type": "code",
   "execution_count": 3,
   "metadata": {},
   "outputs": [
    {
     "name": "stdout",
     "output_type": "stream",
     "text": [
      "enter number to reverse 432\n",
      "Reversed Number: 234\n"
     ]
    }
   ],
   "source": [
    "x=int(input(\"enter number to reverse \"))\n",
    "reverse = 0\n",
    "\n",
    "while x != 0:\n",
    "    digit = x % 10\n",
    "    reverse = reverse * 10 + digit\n",
    "    x//= 10\n",
    "\n",
    "print(\"Reversed Number: \" + str(reverse))"
   ]
  },
  {
   "cell_type": "markdown",
   "metadata": {},
   "source": [
    "### 3. Find all prime numbers from a given range"
   ]
  },
  {
   "cell_type": "code",
   "execution_count": 4,
   "metadata": {},
   "outputs": [
    {
     "name": "stdout",
     "output_type": "stream",
     "text": [
      "Enter number for lower range: 2\n",
      "Enter number for upper range: 10\n",
      "2 3 5 7 "
     ]
    }
   ],
   "source": [
    "lower = int(input(\"Enter number for lower range: \"))  \n",
    "upper = int(input(\"Enter number for upper range: \"))  \n",
    "\n",
    "for num in range(lower,upper + 1):\n",
    "    if num > 1:\n",
    "        for x in range(2,num):\n",
    "            if (num % x) == 0:\n",
    "                break\n",
    "        else:\n",
    "                print(num,end=\" \")\n",
    "\n"
   ]
  },
  {
   "cell_type": "markdown",
   "metadata": {},
   "source": [
    "### 4. Display number of characters in a sentence"
   ]
  },
  {
   "cell_type": "code",
   "execution_count": 1,
   "metadata": {},
   "outputs": [
    {
     "name": "stdout",
     "output_type": "stream",
     "text": [
      "Enter a sentence- hello as\n",
      "7\n"
     ]
    }
   ],
   "source": [
    "sentence = input(\"Enter a sentence- \")\n",
    "var=0\n",
    "for i in sentence:\n",
    "    if(i != \" \"):      #exlucding blank spaces\n",
    "        var=var+1\n",
    "print(var)"
   ]
  },
  {
   "cell_type": "markdown",
   "metadata": {},
   "source": [
    "### 5. Take input from user and find factorial of that number"
   ]
  },
  {
   "cell_type": "code",
   "execution_count": 6,
   "metadata": {},
   "outputs": [
    {
     "name": "stdout",
     "output_type": "stream",
     "text": [
      "Enter a number4\n",
      "Factorial of  4  is  24\n"
     ]
    }
   ],
   "source": [
    "#solution 1\n",
    "\n",
    "fct = 1\n",
    "\n",
    "x=int(input(\"Enter a number\"))\n",
    "\n",
    "for i in range(1,x+1):\n",
    "    fct=fct*i\n",
    "\n",
    "print(\"Factorial of \",x, \" is \",fct )"
   ]
  },
  {
   "cell_type": "code",
   "execution_count": 8,
   "metadata": {},
   "outputs": [
    {
     "name": "stdout",
     "output_type": "stream",
     "text": [
      "Enter a number 12\n",
      "Factorial of  12  is  479001600\n"
     ]
    }
   ],
   "source": [
    "#solution 2\n",
    "fct = 1\n",
    "\n",
    "x=int(input(\"Enter a number \"))\n",
    "\n",
    "for i in range(x+1):\n",
    "    if i>0:\n",
    "        fct=fct*i\n",
    "\n",
    "print(\"Factorial of \",x, \" is \",fct )"
   ]
  },
  {
   "cell_type": "markdown",
   "metadata": {},
   "source": [
    "### 6. Take input from user corresponding to the length of  a fibonacci series and construct the series"
   ]
  },
  {
   "cell_type": "code",
   "execution_count": 5,
   "metadata": {},
   "outputs": [
    {
     "name": "stdout",
     "output_type": "stream",
     "text": [
      "Enter length of fibonacci series5\n",
      "0\n",
      "1\n",
      "1\n",
      "2\n",
      "3\n"
     ]
    }
   ],
   "source": [
    "n=int(input(\"Enter length of fibonacci series\"))\n",
    "a,b = 0,1\n",
    "c=0\n",
    "\n",
    "if n<0:\n",
    "    print(\"error\")\n",
    "\n",
    "elif n==1:\n",
    "    print(a)\n",
    "\n",
    "else:\n",
    "    print(a)\n",
    "    print(b)\n",
    "    \n",
    "    for i in range(2,n):\n",
    "        c=a+b\n",
    "        print(c) \n",
    "        a=b\n",
    "        b=c\n",
    "        "
   ]
  },
  {
   "cell_type": "markdown",
   "metadata": {},
   "source": [
    "### 7. Construct fibonacci series with N elements and return a list with cube of each element using map and lambda function "
   ]
  },
  {
   "cell_type": "code",
   "execution_count": 13,
   "metadata": {},
   "outputs": [
    {
     "name": "stdout",
     "output_type": "stream",
     "text": [
      "enter length of Fibonacci series1\n"
     ]
    },
    {
     "data": {
      "text/plain": [
       "[0]"
      ]
     },
     "execution_count": 13,
     "metadata": {},
     "output_type": "execute_result"
    }
   ],
   "source": [
    "# This question is less of a logic building problem and more of a practice usecase for map and lambda functions\n",
    "#This program can also be done without the use of map and lambda functions\n",
    "\n",
    "N= int(input(\"enter length of Fibonacci series\"))\n",
    "a,b,c=0,1,0\n",
    "fib_series=[a,b]\n",
    "\n",
    "if N<0:\n",
    "    print(\"error\")\n",
    "\n",
    "elif N==1:\n",
    "    fib_series.remove(1)\n",
    "\n",
    "else:\n",
    "    for i in range(2,N):\n",
    "        c=a+b\n",
    "        fib_series.append(c)\n",
    "        a=b\n",
    "        b=c\n",
    "    \n",
    "s = list(map(lambda x: x*x*x , fib_series))\n",
    "s"
   ]
  }
 ],
 "metadata": {
  "kernelspec": {
   "display_name": "Python 3",
   "language": "python",
   "name": "python3"
  },
  "language_info": {
   "codemirror_mode": {
    "name": "ipython",
    "version": 3
   },
   "file_extension": ".py",
   "mimetype": "text/x-python",
   "name": "python",
   "nbconvert_exporter": "python",
   "pygments_lexer": "ipython3",
   "version": "3.8.5"
  }
 },
 "nbformat": 4,
 "nbformat_minor": 4
}
