{
 "cells": [
  {
   "cell_type": "markdown",
   "metadata": {},
   "source": [
    "### 1. Check if given input is prime number\n"
   ]
  },
  {
   "cell_type": "code",
   "execution_count": 2,
   "metadata": {},
   "outputs": [
    {
     "name": "stdout",
     "output_type": "stream",
     "text": [
      "enter a number to check if prime 17\n",
      "prime\n"
     ]
    }
   ],
   "source": [
    "x=int(input(\"enter a number to check if prime \"))\n",
    "\n",
    "\n",
    "for i in range(2,x):\n",
    "        if(x%i==0): \n",
    "            print(\"not prime\")\n",
    "            break\n",
    "        elif(x%x==0 and x%1 ==0):\n",
    "            print(\"prime\")\n",
    "            break\n"
   ]
  },
  {
   "cell_type": "markdown",
   "metadata": {},
   "source": [
    "### 2. Reverse digits in a given number"
   ]
  },
  {
   "cell_type": "code",
   "execution_count": 3,
   "metadata": {},
   "outputs": [
    {
     "name": "stdout",
     "output_type": "stream",
     "text": [
      "enter number to reverse 432\n",
      "Reversed Number: 234\n"
     ]
    }
   ],
   "source": [
    "x=int(input(\"enter number to reverse \"))\n",
    "reverse = 0\n",
    "\n",
    "while x != 0:\n",
    "    digit = x % 10\n",
    "    reverse = reverse * 10 + digit\n",
    "    x//= 10\n",
    "\n",
    "print(\"Reversed Number: \" + str(reverse))"
   ]
  },
  {
   "cell_type": "markdown",
   "metadata": {},
   "source": [
    "### 3. Find all prime numbers from a given range"
   ]
  },
  {
   "cell_type": "code",
   "execution_count": 4,
   "metadata": {},
   "outputs": [
    {
     "name": "stdout",
     "output_type": "stream",
     "text": [
      "Enter number for lower range: 2\n",
      "Enter number for upper range: 10\n",
      "2 3 5 7 "
     ]
    }
   ],
   "source": [
    "lower = int(input(\"Enter number for lower range: \"))  \n",
    "upper = int(input(\"Enter number for upper range: \"))  \n",
    "\n",
    "for num in range(lower,upper + 1):\n",
    "    if num > 1:\n",
    "        for x in range(2,num):\n",
    "            if (num % x) == 0:\n",
    "                break\n",
    "        else:\n",
    "                print(num,end=\" \")\n",
    "\n"
   ]
  },
  {
   "cell_type": "markdown",
   "metadata": {},
   "source": [
    "### Display number of characters in a sentence"
   ]
  },
  {
   "cell_type": "code",
   "execution_count": 1,
   "metadata": {},
   "outputs": [
    {
     "name": "stdout",
     "output_type": "stream",
     "text": [
      "Enter a sentence- hello as\n",
      "7\n"
     ]
    }
   ],
   "source": [
    "sentence = input(\"Enter a sentence- \")\n",
    "var=0\n",
    "for i in sentence:\n",
    "    if(i != \" \"):      #exlucding blank spaces\n",
    "        var=var+1\n",
    "print(var)"
   ]
  }
 ],
 "metadata": {
  "kernelspec": {
   "display_name": "Python 3",
   "language": "python",
   "name": "python3"
  },
  "language_info": {
   "codemirror_mode": {
    "name": "ipython",
    "version": 3
   },
   "file_extension": ".py",
   "mimetype": "text/x-python",
   "name": "python",
   "nbconvert_exporter": "python",
   "pygments_lexer": "ipython3",
   "version": "3.8.5"
  }
 },
 "nbformat": 4,
 "nbformat_minor": 4
}
