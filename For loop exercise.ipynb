{
 "cells": [
  {
   "cell_type": "markdown",
   "metadata": {},
   "source": [
    "### 1. After flipping a coin 10 times, the following results were obtained. Count number of heads and tails "
   ]
  },
  {
   "cell_type": "code",
   "execution_count": null,
   "metadata": {},
   "outputs": [],
   "source": [
    "# result= [\"heads\",\"tails\",\"tails\",\"heads\",\"tails\",\"heads\",\"heads\",\"tails\",\"tails\",\"tails\"]"
   ]
  },
  {
   "cell_type": "code",
   "execution_count": 2,
   "metadata": {},
   "outputs": [
    {
     "name": "stdout",
     "output_type": "stream",
     "text": [
      "no of heads 4\n",
      "no of tails 6\n"
     ]
    }
   ],
   "source": [
    "#Answer\n",
    "\n",
    "result = [\"heads\",\"tails\",\"tails\",\"heads\",\"tails\",\"heads\",\"heads\",\"tails\",\"tails\",\"tails\"]\n",
    "x=0\n",
    "for i in result:\n",
    "    if i==\"heads\":\n",
    "        x=x+1\n",
    "    else:\n",
    "        continue\n",
    "print(\"no of heads\",x)\n",
    "print(\"no of tails\",len(result)-x)"
   ]
  },
  {
   "cell_type": "markdown",
   "metadata": {},
   "source": [
    "### 2. Print square of all numbers between 1 to 10 except even numbers"
   ]
  },
  {
   "cell_type": "code",
   "execution_count": 18,
   "metadata": {},
   "outputs": [
    {
     "data": {
      "text/plain": [
       "[1, 9, 25, 49, 81]"
      ]
     },
     "execution_count": 18,
     "metadata": {},
     "output_type": "execute_result"
    }
   ],
   "source": [
    "#answer1\n",
    "x=list(range(1,11))\n",
    "m=[]\n",
    "for i in x:\n",
    "    if i%2!=0:\n",
    "        m.append(i*i)\n",
    "    else:\n",
    "        continue\n",
    "m"
   ]
  },
  {
   "cell_type": "code",
   "execution_count": 19,
   "metadata": {},
   "outputs": [
    {
     "name": "stdout",
     "output_type": "stream",
     "text": [
      "1\n",
      "9\n",
      "25\n",
      "49\n",
      "81\n"
     ]
    }
   ],
   "source": [
    "#answer2\n",
    "for i in range(1,11):\n",
    "    if i % 2 == 0:\n",
    "        continue\n",
    "    print(i*i)"
   ]
  },
  {
   "cell_type": "code",
   "execution_count": 20,
   "metadata": {},
   "outputs": [
    {
     "name": "stdout",
     "output_type": "stream",
     "text": [
      "1\n",
      "9\n",
      "25\n",
      "49\n",
      "81\n"
     ]
    }
   ],
   "source": [
    "#answer3\n",
    "for i in range(1,11):\n",
    "    if i % 2 != 0:\n",
    "        print(i*i)"
   ]
  },
  {
   "cell_type": "markdown",
   "metadata": {},
   "source": [
    "### 3. Your monthly expense list (from Jan to May) looks like this: "
   ]
  },
  {
   "cell_type": "code",
   "execution_count": 37,
   "metadata": {},
   "outputs": [],
   "source": [
    "#expense_list = [2340, 2500, 2100, 3100, 2980]"
   ]
  },
  {
   "cell_type": "markdown",
   "metadata": {},
   "source": [
    "### Write a program that asks you to enter an expense amount and program should tell you in which month that expense occurred. If expense is not found then it should print that as well."
   ]
  },
  {
   "cell_type": "code",
   "execution_count": 36,
   "metadata": {},
   "outputs": [
    {
     "name": "stdout",
     "output_type": "stream",
     "text": [
      "enter expense amount2980\n",
      "May\n"
     ]
    }
   ],
   "source": [
    "expense_list = [2340, 2500, 2100, 3100, 2980]\n",
    "x=int(input(\"enter expense amount\"))\n",
    "m= -1\n",
    "for i in expense_list:\n",
    "    if i==x:\n",
    "        m= expense_list.index(i)\n",
    "    else: \n",
    "        continue\n",
    "        \n",
    "def month(m):\n",
    "    switch_case= {0:\"Jan\", 1:\"Feb\", 2: \"march\", 3:\"april\",4:\"May\"}\n",
    "    print(switch_case[m])     \n",
    "    \n",
    "if m>0:\n",
    "    month(m)\n",
    "else: \n",
    "    print(\"invalid\")"
   ]
  },
  {
   "cell_type": "code",
   "execution_count": 53,
   "metadata": {},
   "outputs": [
    {
     "name": "stdout",
     "output_type": "stream",
     "text": [
      "*\n",
      "**\n",
      "***\n",
      "****\n",
      "*****\n",
      "******\n"
     ]
    }
   ],
   "source": [
    "### Write a program that prints following shape\n",
    "\n",
    "\n",
    "i=1\n",
    "j=0\n",
    "print(\"*\")\n",
    "for m in (range(6)):\n",
    "    if i<6:\n",
    "        if j<6:\n",
    "            print(\"*\"*i,end=\"\")\n",
    "            print(\"*\")\n",
    "            i=i+1\n",
    "            j=j+1\n",
    "    \n",
    "\n"
   ]
  }
 ],
 "metadata": {
  "kernelspec": {
   "display_name": "Python 3",
   "language": "python",
   "name": "python3"
  },
  "language_info": {
   "codemirror_mode": {
    "name": "ipython",
    "version": 3
   },
   "file_extension": ".py",
   "mimetype": "text/x-python",
   "name": "python",
   "nbconvert_exporter": "python",
   "pygments_lexer": "ipython3",
   "version": "3.8.5"
  }
 },
 "nbformat": 4,
 "nbformat_minor": 4
}
